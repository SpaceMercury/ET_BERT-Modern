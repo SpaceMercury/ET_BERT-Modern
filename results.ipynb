{
 "cells": [
  {
   "cell_type": "code",
   "execution_count": 2,
   "metadata": {},
   "outputs": [],
   "source": [
    "import csv\n",
    "from sklearn.metrics import classification_report, accuracy_score\n"
   ]
  },
  {
   "cell_type": "code",
   "execution_count": null,
   "metadata": {},
   "outputs": [],
   "source": [
    "def load_true_labels(test_file):\n",
    "    with open(test_file, newline='') as f:\n",
    "        reader = csv.DictReader(f, delimiter='\\t')\n",
    "        return [int(row['label']) for row in reader]\n",
    "\n",
    "def load_predicted_labels(pred_file):\n",
    "    with open(pred_file, 'r') as f:\n",
    "        return [int(line.strip()) for line in f if line.strip().isdigit()]\n",
    "\n",
    "def main():\n",
    "\n",
    "    pol_test_path = \"./test_dataset.tsv\"\n",
    "    pol_pred_path = \"./prediction.tsv\"\n",
    "\n",
    "    test_path = \"datasets/cstnet-tls1.3/packet/test_dataset.tsv\"\n",
    "    pred_path = \"datasets/cstnet-tls1.3/packet/prediction.tsv\"\n",
    "\n",
    "    y_true = load_true_labels(pol_test_path)\n",
    "    y_pred = load_predicted_labels(pol_pred_path)\n",
    "\n",
    "    assert len(y_true) == len(y_pred), \"Mismatch in number of samples!\"\n",
    "\n",
    "    print(\"Accuracy:\", accuracy_score(y_true, y_pred))\n",
    "    print(\"\\nDetailed Report:\\n\")\n",
    "    print(classification_report(y_true, y_pred, digits=4))\n",
    "\n",
    "\n",
    "main()"
   ]
  },
  {
   "cell_type": "code",
   "execution_count": 1,
   "metadata": {},
   "outputs": [],
   "source": [
    "import pandas as pd"
   ]
  },
  {
   "cell_type": "code",
   "execution_count": 3,
   "metadata": {},
   "outputs": [],
   "source": [
    "df = pd.read_csv(\"datasets/cstnet-tls1.3/packet/test_dataset.tsv\", sep=\"\\t\")\n",
    "df_no_label = pd.read_csv(\"datasets/cstnet-tls1.3/packet/nolabel_test_dataset.tsv\", sep=\"\\t\")\n",
    "\n"
   ]
  },
  {
   "cell_type": "code",
   "execution_count": 4,
   "metadata": {},
   "outputs": [
    {
     "data": {
      "text/plain": [
       "0    cbb8 b854 5421 21c3 c3de de8d 8d32 3264 64e1 e...\n",
       "1    e2b3 b3af af8a 8a62 6263 6361 61cc cc73 734a 4...\n",
       "2    01bb bbfc fc8e 8e3c 3c82 8250 50de de59 59f7 f...\n",
       "3    480b 0b21 211f 1f37 374d 4d2f 2fb3 b341 41e6 e...\n",
       "4    01bb bb55 5529 294f 4f3f 3f77 7787 8744 4402 0...\n",
       "Name: text_a, dtype: object"
      ]
     },
     "execution_count": 4,
     "metadata": {},
     "output_type": "execute_result"
    }
   ],
   "source": [
    "df.text_a.head()"
   ]
  },
  {
   "cell_type": "code",
   "execution_count": 10,
   "metadata": {},
   "outputs": [],
   "source": [
    "# add random bigrams to the text_a column\n",
    "import random\n",
    "import string\n",
    "\n",
    "\n",
    "\n",
    "\n",
    "def append_k_random_bigrams(text, k=32):\n",
    "\n",
    "    ## grab the last bye\n",
    "    tokens = text.strip().split()\n",
    "    last_byte = tokens[-1]\n",
    "\n",
    "\n",
    "    for _ in range(k):\n",
    "           #select last 2 bytes of the last byte\n",
    "        last_byte = last_byte[-2:]\n",
    "        # generate a random byte\n",
    "        new_byte = f\"{random.randint(0, 255):02x}\"\n",
    "        # append the new byte to the last byte\n",
    "        last_byte = last_byte + new_byte\n",
    "\n",
    "        # append the new byte to the tokens\n",
    "        tokens.append(last_byte)\n",
    "\n",
    "    return ' '.join(tokens)\n",
    "\n",
    "\n",
    "df[\"text_a\"] = df[\"text_a\"].apply(append_k_random_bigrams)\n",
    "\n",
    "df_no_label[\"text_a\"] = df_no_label[\"text_a\"].apply(append_k_random_bigrams)\n"
   ]
  },
  {
   "cell_type": "code",
   "execution_count": 8,
   "metadata": {},
   "outputs": [],
   "source": [
    "df['text_a'] = df['text_a'].str[:140]\n",
    "df_no_label['text_a'] = df_no_label['text_a'].str[:140]\n",
    "\n"
   ]
  },
  {
   "cell_type": "code",
   "execution_count": 9,
   "metadata": {},
   "outputs": [
    {
     "data": {
      "text/plain": [
       "0     cbb8 b854 5421 21c3 c3de de8d 8d32 3264 64e1 e...\n",
       "1     e2b3 b3af af8a 8a62 6263 6361 61cc cc73 734a 4...\n",
       "2     01bb bbfc fc8e 8e3c 3c82 8250 50de de59 59f7 f...\n",
       "3     480b 0b21 211f 1f37 374d 4d2f 2fb3 b341 41e6 e...\n",
       "4     01bb bb55 5529 294f 4f3f 3f77 7787 8744 4402 0...\n",
       "5     9a52 52ad adcb cb96 9690 90b8 b8ce ceb1 b1cf c...\n",
       "6     9262 62e3 e3c1 c1f3 f3b8 b8cc cc9c 9c87 87d3 d...\n",
       "7     e69e 9ead adad ad32 3242 4279 7998 981e 1ec4 c...\n",
       "8     f4d5 d57f 7f05 05de de74 7409 090c 0c5f 5fa4 a...\n",
       "9     ceda da4d 4da0 a0ef ef3f 3f66 6695 9567 675b 5...\n",
       "10    01bb bbc0 c0a2 a2b2 b2ce ce04 04c3 c3de de5e 5...\n",
       "11    c5dc dc93 93e5 e50b 0b57 57d6 d6f2 f2e4 e42f 2...\n",
       "12    cad0 d0d7 d78a 8a18 180a 0ac8 c8c9 c9a7 a773 7...\n",
       "13    d4b4 b476 760c 0c99 9927 2706 06e9 e96f 6fa6 a...\n",
       "14    abd9 d900 00a6 a658 5835 35ad ad5f 5f28 2869 6...\n",
       "15    dc42 42a4 a46d 6d81 8196 9610 10b4 b4e8 e889 8...\n",
       "16    f1d2 d22a 2a3e 3e0d 0df0 f0d8 d89b 9b0f 0f92 9...\n",
       "17    84bc bcaf af61 6181 816d 6dfd fd3d 3d99 994f 4...\n",
       "18    da39 39f2 f239 3951 5106 0696 9691 91fd fd77 7...\n",
       "19    f541 41b7 b729 2927 272e 2e32 329b 9b9d 9d7b 7...\n",
       "20    01bb bb18 1869 697b 7be0 e057 5744 448b 8baa a...\n",
       "21    cd14 147b 7bce ce27 27c1 c190 9040 40c9 c9ea e...\n",
       "22    d8bd bdc6 c633 338c 8c2d 2d58 5840 4020 20ae a...\n",
       "23    01bb bbba bac3 c3ec ecb9 b9df dfb5 b5f3 f3d3 d...\n",
       "24    d8c6 c68d 8ddf dfa6 a63a 3ae1 e1e5 e518 1862 6...\n",
       "25    c8ea ea23 239e 9e44 444c 4c46 467d 7d02 02dc d...\n",
       "26    01bb bbdd dd45 4529 29da da9b 9bca ca77 777e 7...\n",
       "27    c463 63a0 a09a 9af5 f5c5 c54a 4a58 587e 7e78 7...\n",
       "28    28ba ba68 6844 4454 543a 3ab0 b063 634a 4ae4 e...\n",
       "29    fb86 8601 01a3 a3df dfb3 b343 43b6 b64f 4fbd b...\n",
       "30    bbb7 b727 2752 52d9 d99f 9f85 85ff ff6e 6e00 0...\n",
       "31    c1d0 d058 5867 67b5 b544 447b 7bef efa6 a6ba b...\n",
       "32    c7e0 e027 277e 7e68 6828 289c 9cbf bfab ab3a 3...\n",
       "33    b4dc dc3b 3bf7 f747 47aa aad0 d000 00b8 b81a 1...\n",
       "34    945a 5a44 4467 676c 6c38 38e3 e3cd cddb db87 8...\n",
       "35    f1c1 c13e 3e46 461a 1a86 86f9 f939 396c 6cd3 d...\n",
       "36    01bb bb0e 0e0a 0ad9 d931 31e3 e342 4281 81db d...\n",
       "37    01bb bb52 52b8 b831 31e9 e970 70b7 b728 28db d...\n",
       "38    f408 086e 6e52 5211 1180 80a0 a048 4835 35e7 e...\n",
       "39    ac0e 0e05 05a3 a357 5757 57dd ddc8 c84f 4f50 5...\n",
       "Name: text_a, dtype: object"
      ]
     },
     "execution_count": 9,
     "metadata": {},
     "output_type": "execute_result"
    }
   ],
   "source": [
    "df.text_a.head(40)"
   ]
  },
  {
   "cell_type": "code",
   "execution_count": 5,
   "metadata": {},
   "outputs": [],
   "source": [
    "df.to_csv(\"test_dataset_noTCP.tsv\", sep='\\t', index=False)\n",
    "df_no_label.to_csv(\"nolabel_test_dataset_noTCP.tsv\", sep='\\t', index=False)"
   ]
  },
  {
   "cell_type": "code",
   "execution_count": null,
   "metadata": {},
   "outputs": [],
   "source": []
  }
 ],
 "metadata": {
  "kernelspec": {
   "display_name": "packetClassifier2",
   "language": "python",
   "name": "python3"
  },
  "language_info": {
   "codemirror_mode": {
    "name": "ipython",
    "version": 3
   },
   "file_extension": ".py",
   "mimetype": "text/x-python",
   "name": "python",
   "nbconvert_exporter": "python",
   "pygments_lexer": "ipython3",
   "version": "3.11.7"
  }
 },
 "nbformat": 4,
 "nbformat_minor": 2
}
