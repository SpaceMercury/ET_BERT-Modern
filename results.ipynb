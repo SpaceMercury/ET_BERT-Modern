{
 "cells": [
  {
   "cell_type": "code",
   "execution_count": 12,
   "metadata": {},
   "outputs": [],
   "source": [
    "import csv\n",
    "from sklearn.metrics import classification_report, accuracy_score\n"
   ]
  },
  {
   "cell_type": "code",
   "execution_count": 16,
   "metadata": {},
   "outputs": [
    {
     "name": "stdout",
     "output_type": "stream",
     "text": [
      "Accuracy: 1.0\n",
      "\n",
      "Detailed Report:\n",
      "\n",
      "              precision    recall  f1-score   support\n",
      "\n",
      "           1     1.0000    1.0000    1.0000        31\n",
      "\n",
      "    accuracy                         1.0000        31\n",
      "   macro avg     1.0000    1.0000    1.0000        31\n",
      "weighted avg     1.0000    1.0000    1.0000        31\n",
      "\n"
     ]
    }
   ],
   "source": [
    "def load_true_labels(test_file):\n",
    "    with open(test_file, newline='') as f:\n",
    "        reader = csv.DictReader(f, delimiter='\\t')\n",
    "        return [int(row['label']) for row in reader]\n",
    "\n",
    "def load_predicted_labels(pred_file):\n",
    "    with open(pred_file, 'r') as f:\n",
    "        return [int(line.strip()) for line in f if line.strip().isdigit()]\n",
    "\n",
    "def main():\n",
    "\n",
    "    pol_test_path = \"./test_dataset.tsv\"\n",
    "    pol_pred_path = \"./prediction.tsv\"\n",
    "\n",
    "    test_path = \"datasets/cstnet-tls1.3/packet/test_dataset.tsv\"\n",
    "    pred_path = \"datasets/cstnet-tls1.3/packet/prediction.tsv\"\n",
    "\n",
    "    y_true = load_true_labels(pol_test_path)\n",
    "    y_pred = load_predicted_labels(pol_pred_path)\n",
    "\n",
    "    assert len(y_true) == len(y_pred), \"Mismatch in number of samples!\"\n",
    "\n",
    "    print(\"Accuracy:\", accuracy_score(y_true, y_pred))\n",
    "    print(\"\\nDetailed Report:\\n\")\n",
    "    print(classification_report(y_true, y_pred, digits=4))\n",
    "\n",
    "\n",
    "main()"
   ]
  },
  {
   "cell_type": "code",
   "execution_count": null,
   "metadata": {},
   "outputs": [],
   "source": []
  }
 ],
 "metadata": {
  "kernelspec": {
   "display_name": "packetClassifier2",
   "language": "python",
   "name": "python3"
  },
  "language_info": {
   "codemirror_mode": {
    "name": "ipython",
    "version": 3
   },
   "file_extension": ".py",
   "mimetype": "text/x-python",
   "name": "python",
   "nbconvert_exporter": "python",
   "pygments_lexer": "ipython3",
   "version": "3.11.7"
  }
 },
 "nbformat": 4,
 "nbformat_minor": 2
}
